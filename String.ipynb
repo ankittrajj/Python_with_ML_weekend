{
 "cells": [
  {
   "cell_type": "markdown",
   "id": "58fc1ee3",
   "metadata": {},
   "source": [
    "# String"
   ]
  },
  {
   "cell_type": "code",
   "execution_count": 1,
   "id": "fdf4b031",
   "metadata": {},
   "outputs": [],
   "source": [
    "x = '''sdfihb$$%%1122'''"
   ]
  },
  {
   "cell_type": "code",
   "execution_count": 2,
   "id": "1faf4d94",
   "metadata": {},
   "outputs": [
    {
     "name": "stdout",
     "output_type": "stream",
     "text": [
      "sdfihb$$%%1122\n"
     ]
    }
   ],
   "source": [
    "print(x)"
   ]
  },
  {
   "cell_type": "code",
   "execution_count": 3,
   "id": "f9292731",
   "metadata": {},
   "outputs": [
    {
     "data": {
      "text/plain": [
       "str"
      ]
     },
     "execution_count": 3,
     "metadata": {},
     "output_type": "execute_result"
    }
   ],
   "source": [
    "type(x)"
   ]
  },
  {
   "cell_type": "code",
   "execution_count": 4,
   "id": "1b8ff177",
   "metadata": {},
   "outputs": [],
   "source": [
    "#len\n",
    "#count\n",
    "#capital\n",
    "#find\n",
    "#replace"
   ]
  },
  {
   "cell_type": "code",
   "execution_count": 5,
   "id": "c91a6c5f",
   "metadata": {},
   "outputs": [
    {
     "name": "stdout",
     "output_type": "stream",
     "text": [
      "r\n"
     ]
    }
   ],
   "source": [
    "#Slicing \n",
    "a = 'koi bhi string'\n",
    "print(a[10])"
   ]
  },
  {
   "cell_type": "code",
   "execution_count": 6,
   "id": "b9a24795",
   "metadata": {},
   "outputs": [
    {
     "data": {
      "text/plain": [
       "'k'"
      ]
     },
     "execution_count": 6,
     "metadata": {},
     "output_type": "execute_result"
    }
   ],
   "source": [
    "a[0]"
   ]
  },
  {
   "cell_type": "code",
   "execution_count": 7,
   "id": "cd2310ba",
   "metadata": {},
   "outputs": [
    {
     "data": {
      "text/plain": [
       "'koi b'"
      ]
     },
     "execution_count": 7,
     "metadata": {},
     "output_type": "execute_result"
    }
   ],
   "source": [
    "a[0:5]"
   ]
  },
  {
   "cell_type": "code",
   "execution_count": 8,
   "id": "bfc87f75",
   "metadata": {},
   "outputs": [
    {
     "data": {
      "text/plain": [
       "'koi bhi string'"
      ]
     },
     "execution_count": 8,
     "metadata": {},
     "output_type": "execute_result"
    }
   ],
   "source": [
    "a[0:]"
   ]
  },
  {
   "cell_type": "code",
   "execution_count": 9,
   "id": "d1e85f30",
   "metadata": {},
   "outputs": [
    {
     "data": {
      "text/plain": [
       "'koi'"
      ]
     },
     "execution_count": 9,
     "metadata": {},
     "output_type": "execute_result"
    }
   ],
   "source": [
    "a[:3]"
   ]
  },
  {
   "cell_type": "code",
   "execution_count": 10,
   "id": "e9cc2421",
   "metadata": {},
   "outputs": [
    {
     "data": {
      "text/plain": [
       "'koi bhi string'"
      ]
     },
     "execution_count": 10,
     "metadata": {},
     "output_type": "execute_result"
    }
   ],
   "source": [
    "a[:]"
   ]
  },
  {
   "cell_type": "code",
   "execution_count": 11,
   "id": "9ae92ce7",
   "metadata": {},
   "outputs": [
    {
     "data": {
      "text/plain": [
       "'koi '"
      ]
     },
     "execution_count": 11,
     "metadata": {},
     "output_type": "execute_result"
    }
   ],
   "source": [
    "a[0:4:1]"
   ]
  },
  {
   "cell_type": "code",
   "execution_count": 12,
   "id": "62d57023",
   "metadata": {},
   "outputs": [
    {
     "data": {
      "text/plain": [
       "'ki'"
      ]
     },
     "execution_count": 12,
     "metadata": {},
     "output_type": "execute_result"
    }
   ],
   "source": [
    "a[0:4:2]"
   ]
  },
  {
   "cell_type": "code",
   "execution_count": 13,
   "id": "f3aa84e6",
   "metadata": {},
   "outputs": [
    {
     "data": {
      "text/plain": [
       "'koi bhi string'"
      ]
     },
     "execution_count": 13,
     "metadata": {},
     "output_type": "execute_result"
    }
   ],
   "source": [
    "#negative\n",
    "a"
   ]
  },
  {
   "cell_type": "code",
   "execution_count": 14,
   "id": "be245ccb",
   "metadata": {},
   "outputs": [
    {
     "data": {
      "text/plain": [
       "'koi bhi strin'"
      ]
     },
     "execution_count": 14,
     "metadata": {},
     "output_type": "execute_result"
    }
   ],
   "source": [
    "a[0:-1]"
   ]
  },
  {
   "cell_type": "code",
   "execution_count": 15,
   "id": "7ec98a86",
   "metadata": {},
   "outputs": [
    {
     "data": {
      "text/plain": [
       "'koi bhi string'"
      ]
     },
     "execution_count": 15,
     "metadata": {},
     "output_type": "execute_result"
    }
   ],
   "source": [
    "a"
   ]
  },
  {
   "cell_type": "code",
   "execution_count": 16,
   "id": "e6b8f3fb",
   "metadata": {},
   "outputs": [
    {
     "data": {
      "text/plain": [
       "''"
      ]
     },
     "execution_count": 16,
     "metadata": {},
     "output_type": "execute_result"
    }
   ],
   "source": [
    "a[-1:0]"
   ]
  },
  {
   "cell_type": "code",
   "execution_count": 17,
   "id": "d76f9190",
   "metadata": {},
   "outputs": [
    {
     "data": {
      "text/plain": [
       "'kibisrn'"
      ]
     },
     "execution_count": 17,
     "metadata": {},
     "output_type": "execute_result"
    }
   ],
   "source": [
    "a[0:-1:2]"
   ]
  },
  {
   "cell_type": "code",
   "execution_count": 18,
   "id": "0fb61905",
   "metadata": {},
   "outputs": [
    {
     "data": {
      "text/plain": [
       "''"
      ]
     },
     "execution_count": 18,
     "metadata": {},
     "output_type": "execute_result"
    }
   ],
   "source": [
    "a[-1:0:2]"
   ]
  },
  {
   "cell_type": "markdown",
   "id": "a26cd1dd",
   "metadata": {},
   "source": [
    "# String ke Method"
   ]
  },
  {
   "cell_type": "code",
   "execution_count": 19,
   "id": "eecfe87b",
   "metadata": {},
   "outputs": [],
   "source": [
    "#len\n",
    "#count\n",
    "#capital\n",
    "#find\n",
    "#replace\n",
    "x = \"I am Sameer & I am a very good at python programming\""
   ]
  },
  {
   "cell_type": "code",
   "execution_count": 20,
   "id": "6815fef4",
   "metadata": {},
   "outputs": [
    {
     "name": "stdout",
     "output_type": "stream",
     "text": [
      "I am Sameer & I am a very good at python programming\n"
     ]
    }
   ],
   "source": [
    "print(x)"
   ]
  },
  {
   "cell_type": "code",
   "execution_count": 21,
   "id": "9f095ab6",
   "metadata": {},
   "outputs": [
    {
     "data": {
      "text/plain": [
       "52"
      ]
     },
     "execution_count": 21,
     "metadata": {},
     "output_type": "execute_result"
    }
   ],
   "source": [
    "len(x)"
   ]
  },
  {
   "cell_type": "code",
   "execution_count": 25,
   "id": "66dec678",
   "metadata": {},
   "outputs": [
    {
     "data": {
      "text/plain": [
       "0"
      ]
     },
     "execution_count": 25,
     "metadata": {},
     "output_type": "execute_result"
    }
   ],
   "source": [
    "#when u you methods always use str.method\n",
    "x.count('z')"
   ]
  },
  {
   "cell_type": "code",
   "execution_count": 26,
   "id": "d8fb5ed0",
   "metadata": {},
   "outputs": [
    {
     "data": {
      "text/plain": [
       "'I am Sameer & I am a very good at python programming'"
      ]
     },
     "execution_count": 26,
     "metadata": {},
     "output_type": "execute_result"
    }
   ],
   "source": [
    "#capitalize\n",
    "x"
   ]
  },
  {
   "cell_type": "code",
   "execution_count": 27,
   "id": "296211ec",
   "metadata": {},
   "outputs": [
    {
     "data": {
      "text/plain": [
       "'I am sameer & i am a very good at python programming'"
      ]
     },
     "execution_count": 27,
     "metadata": {},
     "output_type": "execute_result"
    }
   ],
   "source": [
    "x.capitalize()\n",
    "#only make capital first letter and make small all the string"
   ]
  },
  {
   "cell_type": "code",
   "execution_count": 28,
   "id": "9bd55060",
   "metadata": {},
   "outputs": [
    {
     "data": {
      "text/plain": [
       "'I am Sameer & I am a very good at python programming'"
      ]
     },
     "execution_count": 28,
     "metadata": {},
     "output_type": "execute_result"
    }
   ],
   "source": [
    "x"
   ]
  },
  {
   "cell_type": "code",
   "execution_count": 33,
   "id": "f04f869e",
   "metadata": {},
   "outputs": [
    {
     "data": {
      "text/plain": [
       "8"
      ]
     },
     "execution_count": 33,
     "metadata": {},
     "output_type": "execute_result"
    }
   ],
   "source": [
    "x.find(\"e\")\n",
    "#it will give the index of the string "
   ]
  },
  {
   "cell_type": "code",
   "execution_count": 34,
   "id": "611facaa",
   "metadata": {},
   "outputs": [
    {
     "data": {
      "text/plain": [
       "'I am Sameer & I am a very good at python programming'"
      ]
     },
     "execution_count": 34,
     "metadata": {},
     "output_type": "execute_result"
    }
   ],
   "source": [
    "x"
   ]
  },
  {
   "cell_type": "code",
   "execution_count": 36,
   "id": "76890eea",
   "metadata": {},
   "outputs": [
    {
     "data": {
      "text/plain": [
       "'I am Lion & I am a very good at python programming'"
      ]
     },
     "execution_count": 36,
     "metadata": {},
     "output_type": "execute_result"
    }
   ],
   "source": [
    "x.replace(\"Sameer\",\"Lion\")"
   ]
  },
  {
   "cell_type": "code",
   "execution_count": 42,
   "id": "ae03f8c1",
   "metadata": {},
   "outputs": [
    {
     "data": {
      "text/plain": [
       "'gnimmargorp nohtyp ta doog yrev a ma I & reemaS ma I'"
      ]
     },
     "execution_count": 42,
     "metadata": {},
     "output_type": "execute_result"
    }
   ],
   "source": [
    "x[0::-1]"
   ]
  },
  {
   "cell_type": "code",
   "execution_count": 44,
   "id": "e53efabe",
   "metadata": {},
   "outputs": [
    {
     "data": {
      "text/plain": [
       "'I am Sameer & I am a very good at python progr'"
      ]
     },
     "execution_count": 44,
     "metadata": {},
     "output_type": "execute_result"
    }
   ],
   "source": [
    "x[0:-6]"
   ]
  },
  {
   "cell_type": "code",
   "execution_count": 45,
   "id": "1b415b53",
   "metadata": {},
   "outputs": [],
   "source": [
    "#the end"
   ]
  },
  {
   "cell_type": "code",
   "execution_count": 50,
   "id": "90978324",
   "metadata": {},
   "outputs": [
    {
     "name": "stdout",
     "output_type": "stream",
     "text": [
      "bacche ho bhai tum abhi\n"
     ]
    }
   ],
   "source": [
    "#Condition Operator\n",
    "# if /else/elif\n",
    "age = 10\n",
    "if age>=18:\n",
    "    print(\"colg walle bhiya\")\n",
    "elif age==10:\n",
    "    print('bacche ho bhai tum abhi')\n",
    "else:\n",
    "    print(\"skol walle bachhe\")"
   ]
  },
  {
   "cell_type": "code",
   "execution_count": null,
   "id": "3960f02c",
   "metadata": {},
   "outputs": [],
   "source": [
    "# Loop\n",
    "# for / while loop\n",
    "# for----> \n",
    "#while----> "
   ]
  },
  {
   "cell_type": "code",
   "execution_count": null,
   "id": "d77c9edd",
   "metadata": {},
   "outputs": [],
   "source": []
  }
 ],
 "metadata": {
  "kernelspec": {
   "display_name": "Python 3",
   "language": "python",
   "name": "python3"
  },
  "language_info": {
   "codemirror_mode": {
    "name": "ipython",
    "version": 3
   },
   "file_extension": ".py",
   "mimetype": "text/x-python",
   "name": "python",
   "nbconvert_exporter": "python",
   "pygments_lexer": "ipython3",
   "version": "3.8.8"
  }
 },
 "nbformat": 4,
 "nbformat_minor": 5
}
