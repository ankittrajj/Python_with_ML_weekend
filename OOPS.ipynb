{
 "cells": [
  {
   "cell_type": "markdown",
   "id": "6b524dff",
   "metadata": {},
   "source": [
    "# Class & Objects"
   ]
  },
  {
   "cell_type": "code",
   "execution_count": 7,
   "id": "0871e2a7",
   "metadata": {},
   "outputs": [
    {
     "name": "stdout",
     "output_type": "stream",
     "text": [
      "a 23 Delhi\n",
      "Ram 12 UP\n"
     ]
    }
   ],
   "source": [
    "class students:\n",
    "    def __init__(self,name,age,city):\n",
    "        self.name = name\n",
    "        self.age= age\n",
    "        self.city = city\n",
    "stu = students('Ram',12,'UP')\n",
    "stu2 = students('a',23,'Delhi')\n",
    "print(stu2.name,stu2.age,stu2.city)\n",
    "print(stu.name,stu.age,stu.city)\n",
    "        "
   ]
  },
  {
   "cell_type": "code",
   "execution_count": 18,
   "id": "69aab1e2",
   "metadata": {},
   "outputs": [
    {
     "name": "stdout",
     "output_type": "stream",
     "text": [
      "32\n"
     ]
    }
   ],
   "source": [
    "class emp:\n",
    "    def __init__(self,name,age):\n",
    "        self.name=name\n",
    "        self.age=age\n",
    "        \n",
    "# e1 = emp('Ram',12)\n",
    "# e2 = emp('Rahim',32)\n",
    "x = [emp('Ram',12),\n",
    "    emp('Rahim',32)]\n",
    "print(x[1].age)"
   ]
  },
  {
   "cell_type": "code",
   "execution_count": 19,
   "id": "d0b94467",
   "metadata": {},
   "outputs": [
    {
     "name": "stdout",
     "output_type": "stream",
     "text": [
      "Rahim\n"
     ]
    }
   ],
   "source": [
    "print(x[1].name)"
   ]
  },
  {
   "cell_type": "code",
   "execution_count": 20,
   "id": "fa86e71d",
   "metadata": {},
   "outputs": [
    {
     "name": "stdout",
     "output_type": "stream",
     "text": [
      "Ram\n"
     ]
    }
   ],
   "source": [
    "print(x[0].name)"
   ]
  },
  {
   "cell_type": "code",
   "execution_count": 21,
   "id": "a53151d7",
   "metadata": {},
   "outputs": [
    {
     "data": {
      "text/plain": [
       "12"
      ]
     },
     "execution_count": 21,
     "metadata": {},
     "output_type": "execute_result"
    }
   ],
   "source": [
    "x[0].age"
   ]
  },
  {
   "cell_type": "code",
   "execution_count": 22,
   "id": "9480820a",
   "metadata": {},
   "outputs": [
    {
     "data": {
      "text/plain": [
       "32"
      ]
     },
     "execution_count": 22,
     "metadata": {},
     "output_type": "execute_result"
    }
   ],
   "source": [
    "x[1].age"
   ]
  },
  {
   "cell_type": "code",
   "execution_count": 28,
   "id": "718ac2a8",
   "metadata": {},
   "outputs": [
    {
     "data": {
      "text/plain": [
       "12"
      ]
     },
     "execution_count": 28,
     "metadata": {},
     "output_type": "execute_result"
    }
   ],
   "source": [
    "x[0].age"
   ]
  },
  {
   "cell_type": "code",
   "execution_count": 30,
   "id": "c981fe3f",
   "metadata": {},
   "outputs": [
    {
     "data": {
      "text/plain": [
       "12"
      ]
     },
     "execution_count": 30,
     "metadata": {},
     "output_type": "execute_result"
    }
   ],
   "source": [
    "x[0].age"
   ]
  },
  {
   "cell_type": "code",
   "execution_count": null,
   "id": "17f921fd",
   "metadata": {},
   "outputs": [],
   "source": []
  }
 ],
 "metadata": {
  "kernelspec": {
   "display_name": "Python 3",
   "language": "python",
   "name": "python3"
  },
  "language_info": {
   "codemirror_mode": {
    "name": "ipython",
    "version": 3
   },
   "file_extension": ".py",
   "mimetype": "text/x-python",
   "name": "python",
   "nbconvert_exporter": "python",
   "pygments_lexer": "ipython3",
   "version": "3.8.8"
  }
 },
 "nbformat": 4,
 "nbformat_minor": 5
}
