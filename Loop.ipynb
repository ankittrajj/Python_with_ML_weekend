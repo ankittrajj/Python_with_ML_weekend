{
 "cells": [
  {
   "cell_type": "markdown",
   "id": "9e84aca2",
   "metadata": {},
   "source": [
    "# Loop"
   ]
  },
  {
   "cell_type": "code",
   "execution_count": 1,
   "id": "b5f045c5",
   "metadata": {},
   "outputs": [
    {
     "name": "stdout",
     "output_type": "stream",
     "text": [
      "0\n",
      "1\n",
      "2\n",
      "3\n",
      "4\n",
      "5\n",
      "6\n",
      "7\n",
      "8\n",
      "9\n"
     ]
    }
   ],
   "source": [
    "#for \n",
    "#while\n",
    "for x in range(10):\n",
    "    print(x)"
   ]
  },
  {
   "cell_type": "code",
   "execution_count": 2,
   "id": "60a749ab",
   "metadata": {},
   "outputs": [
    {
     "name": "stdout",
     "output_type": "stream",
     "text": [
      "1\n",
      "2\n",
      "3\n",
      "4\n",
      "5\n",
      "6\n",
      "7\n",
      "8\n",
      "9\n"
     ]
    }
   ],
   "source": [
    "for x in range(1,10):\n",
    "    print(x)"
   ]
  },
  {
   "cell_type": "code",
   "execution_count": 3,
   "id": "7bb762f7",
   "metadata": {},
   "outputs": [
    {
     "name": "stdout",
     "output_type": "stream",
     "text": [
      "0\n",
      "1\n",
      "2\n",
      "3\n",
      "4\n",
      "5\n",
      "6\n",
      "7\n",
      "8\n",
      "9\n",
      "10\n"
     ]
    }
   ],
   "source": [
    "for x in range(11):\n",
    "    print(x)"
   ]
  },
  {
   "cell_type": "code",
   "execution_count": 4,
   "id": "8f0a49bd",
   "metadata": {},
   "outputs": [
    {
     "name": "stdout",
     "output_type": "stream",
     "text": [
      "1\n",
      "3\n",
      "5\n",
      "7\n",
      "9\n",
      "11\n"
     ]
    }
   ],
   "source": [
    "for x in range(1,12,2):\n",
    "    print(x)"
   ]
  },
  {
   "cell_type": "code",
   "execution_count": 5,
   "id": "cb336780",
   "metadata": {},
   "outputs": [
    {
     "name": "stdout",
     "output_type": "stream",
     "text": [
      "20 10\n"
     ]
    }
   ],
   "source": [
    "# WAP to print 10 natural numbers\n",
    "#WAP to print sum of 1-10\n",
    "#print the table of a 2\n",
    "# print 1-10\n",
    "#print -1 to -10\n",
    "a = 10\n",
    "b=20\n",
    "c = a\n",
    "a=b\n",
    "b=c\n",
    "print(a,b)"
   ]
  },
  {
   "cell_type": "code",
   "execution_count": 6,
   "id": "cd3a8ca8",
   "metadata": {},
   "outputs": [
    {
     "name": "stdout",
     "output_type": "stream",
     "text": [
      "100 200\n",
      "200 100\n"
     ]
    }
   ],
   "source": [
    "a = 100\n",
    "b = 200\n",
    "print(a,b)\n",
    "a,b=b,a\n",
    "print(a,b)"
   ]
  },
  {
   "cell_type": "code",
   "execution_count": 7,
   "id": "9bd157d6",
   "metadata": {},
   "outputs": [
    {
     "name": "stdout",
     "output_type": "stream",
     "text": [
      "0\n",
      "1\n",
      "2\n",
      "3\n",
      "4\n",
      "5\n",
      "6\n",
      "7\n",
      "8\n",
      "9\n",
      "10\n"
     ]
    }
   ],
   "source": [
    "#While\n",
    "# condition 1---> initilazation\n",
    "i = 0 \n",
    "# cond. 2-----> put the condition\n",
    "while(i<=10):\n",
    "    print(i)\n",
    "    #condition 3----> increment/decrement operator\n",
    "    i=i+1\n",
    "#     print(i)\n",
    "#     i+=1\n",
    "#     i=i+1\n",
    "#     i++\n",
    "    "
   ]
  },
  {
   "cell_type": "markdown",
   "id": "444c208f",
   "metadata": {},
   "source": [
    "# Function"
   ]
  },
  {
   "cell_type": "code",
   "execution_count": 8,
   "id": "727ad34d",
   "metadata": {},
   "outputs": [
    {
     "name": "stdout",
     "output_type": "stream",
     "text": [
      "hello bhiya, mai hu don\n"
     ]
    }
   ],
   "source": [
    "#function----> DRY----> Don't repeat yourself\n",
    "def xyz():\n",
    "    print('hello bhiya, mai hu don')\n",
    "xyz()"
   ]
  },
  {
   "cell_type": "code",
   "execution_count": 9,
   "id": "18e45645",
   "metadata": {},
   "outputs": [],
   "source": [
    "#calling a function\n",
    "# xyz()"
   ]
  },
  {
   "cell_type": "code",
   "execution_count": 10,
   "id": "d80b9b83",
   "metadata": {},
   "outputs": [
    {
     "name": "stdout",
     "output_type": "stream",
     "text": [
      "ankit\n"
     ]
    }
   ],
   "source": [
    "#type\n",
    "# Argument + return\n",
    "#no arg + return\n",
    "# no arg + no return \n",
    "#arg + no return\n",
    "\n",
    "def function():\n",
    "    print('ankit')\n",
    "    \n",
    "function()"
   ]
  },
  {
   "cell_type": "code",
   "execution_count": 11,
   "id": "63fba8cc",
   "metadata": {},
   "outputs": [],
   "source": [
    "#no argument + no return(print)\n",
    "def abc():\n",
    "    print('hello bahuballi kidr ho bhai')\n"
   ]
  },
  {
   "cell_type": "code",
   "execution_count": 12,
   "id": "d4d00ef0",
   "metadata": {},
   "outputs": [
    {
     "name": "stdout",
     "output_type": "stream",
     "text": [
      "hello bahuballi kidr ho bhai\n",
      "10\n"
     ]
    }
   ],
   "source": [
    "abc()\n",
    "print(9+1)"
   ]
  },
  {
   "cell_type": "code",
   "execution_count": 13,
   "id": "86a8c4f3",
   "metadata": {},
   "outputs": [],
   "source": [
    "#Without Arg + no return\n",
    "# add 2 numbers\n",
    "def add():\n",
    "    a=2\n",
    "    b=3\n",
    "    c=a+b\n",
    "    print(c)\n",
    "    "
   ]
  },
  {
   "cell_type": "code",
   "execution_count": 14,
   "id": "ce3446e6",
   "metadata": {},
   "outputs": [
    {
     "name": "stdout",
     "output_type": "stream",
     "text": [
      "5\n"
     ]
    }
   ],
   "source": [
    "add()"
   ]
  },
  {
   "cell_type": "code",
   "execution_count": 19,
   "id": "1277766f",
   "metadata": {},
   "outputs": [
    {
     "name": "stdout",
     "output_type": "stream",
     "text": [
      "10\n"
     ]
    }
   ],
   "source": [
    "#with arg + no return\n",
    "def add (a,b):\n",
    "    c = a+b\n",
    "    print(c)"
   ]
  },
  {
   "cell_type": "code",
   "execution_count": 16,
   "id": "2d090bed",
   "metadata": {},
   "outputs": [],
   "source": [
    "add(2,4)"
   ]
  },
  {
   "cell_type": "code",
   "execution_count": 21,
   "id": "1e88193a",
   "metadata": {},
   "outputs": [],
   "source": [
    "#With arg + with return\n",
    "def add(x,y):\n",
    "    z = x+y\n",
    "    return (z)"
   ]
  },
  {
   "cell_type": "code",
   "execution_count": 18,
   "id": "533a7416",
   "metadata": {},
   "outputs": [
    {
     "data": {
      "text/plain": [
       "5"
      ]
     },
     "execution_count": 18,
     "metadata": {},
     "output_type": "execute_result"
    }
   ],
   "source": [
    "add(2,3)"
   ]
  },
  {
   "cell_type": "code",
   "execution_count": 22,
   "id": "c60e740d",
   "metadata": {},
   "outputs": [],
   "source": [
    "#no arg + with return\n",
    "def add():\n",
    "    d = 90\n",
    "    e = 7\n",
    "    sum = d+e\n",
    "    return sum\n",
    "    "
   ]
  },
  {
   "cell_type": "code",
   "execution_count": 23,
   "id": "bd88ffbe",
   "metadata": {},
   "outputs": [
    {
     "data": {
      "text/plain": [
       "97"
      ]
     },
     "execution_count": 23,
     "metadata": {},
     "output_type": "execute_result"
    }
   ],
   "source": [
    "add()"
   ]
  },
  {
   "cell_type": "code",
   "execution_count": 43,
   "id": "2a076cfd",
   "metadata": {},
   "outputs": [],
   "source": [
    "#default parametres\n",
    "def add(a,b=2):\n",
    "    z = a+b\n",
    "    print(z)"
   ]
  },
  {
   "cell_type": "code",
   "execution_count": 44,
   "id": "daf3388b",
   "metadata": {},
   "outputs": [
    {
     "name": "stdout",
     "output_type": "stream",
     "text": [
      "4\n"
     ]
    }
   ],
   "source": [
    "add(2)"
   ]
  },
  {
   "cell_type": "code",
   "execution_count": 49,
   "id": "797b0580",
   "metadata": {},
   "outputs": [
    {
     "name": "stdout",
     "output_type": "stream",
     "text": [
      "A is greater\n"
     ]
    }
   ],
   "source": [
    "# WAP to find max of 3 numbers\n",
    "# WAP to find min of 3 numbers\n",
    "# WAP to find even or odd numbers\n",
    "\n",
    "def maxi(a,b,c):\n",
    "    if(a>b and a>c):\n",
    "        print(\"A is greater\")\n",
    "#         return a\n",
    "    elif(b>a and b>c):\n",
    "        print(\"B is greater\")\n",
    "    else:\n",
    "        print(\"C is greater\")\n",
    "        \n",
    "maxi(121,23,90)"
   ]
  },
  {
   "cell_type": "code",
   "execution_count": 50,
   "id": "e7a75b02",
   "metadata": {},
   "outputs": [],
   "source": []
  },
  {
   "cell_type": "code",
   "execution_count": null,
   "id": "1559d7b2",
   "metadata": {},
   "outputs": [],
   "source": []
  },
  {
   "cell_type": "code",
   "execution_count": null,
   "id": "f889040e",
   "metadata": {},
   "outputs": [],
   "source": []
  }
 ],
 "metadata": {
  "kernelspec": {
   "display_name": "Python 3",
   "language": "python",
   "name": "python3"
  },
  "language_info": {
   "codemirror_mode": {
    "name": "ipython",
    "version": 3
   },
   "file_extension": ".py",
   "mimetype": "text/x-python",
   "name": "python",
   "nbconvert_exporter": "python",
   "pygments_lexer": "ipython3",
   "version": "3.8.8"
  }
 },
 "nbformat": 4,
 "nbformat_minor": 5
}
